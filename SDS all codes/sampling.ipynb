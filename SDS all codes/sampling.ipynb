{
 "cells": [
  {
   "cell_type": "code",
   "execution_count": 1,
   "metadata": {
    "collapsed": true
   },
   "outputs": [],
   "source": [
    "import csv\n",
    "import pandas as pd\n",
    "from random import sample \n",
    "\n",
    "df = pd.read_csv('top_100_anime_movie.csv')"
   ]
  },
  {
   "cell_type": "code",
   "execution_count": 7,
   "metadata": {
    "collapsed": false
   },
   "outputs": [
    {
     "name": "stdout",
     "output_type": "stream",
     "text": [
      "[6, 84, 31, 91, 88, 97, 17, 34, 50, 81]\n",
      "    rank                                              title  rating    votes  \\\n",
      "6      7                             Grave of the Fireflies     8.5  275,743   \n",
      "84    85  Interstella 5555: The 5tory of the 5ecret 5tar...     7.8   14,744   \n",
      "31    32  Fate/stay night [Heaven's Feel] II. lost butte...     8.0    2,471   \n",
      "91    92  Mobile Suit Gundam: The Origin VI - Rise of th...     7.7      422   \n",
      "88    89                                       Ninja Scroll     7.8   37,803   \n",
      "97    98         The Shimajiro Movie: Shimajiro in Bookland     7.7       25   \n",
      "17    18                                      Magnetic Rose     8.2    2,677   \n",
      "34    35                       Black Butler: Book of Murder     8.0    1,085   \n",
      "50    51                                  Castle in the Sky     8.0  166,679   \n",
      "81    82       Detective Conan: The Phantom of Baker Street     7.8    3,228   \n",
      "\n",
      "    year  minutes                         genre gross  \n",
      "6   1988     89.0         Animation, Drama, War   NaN  \n",
      "84  2003     68.0   Animation, Adventure, Music   NaN  \n",
      "31  2019    117.0  Animation, Action, Adventure   NaN  \n",
      "91  2018     84.0      Animation, Action, Drama   NaN  \n",
      "88  1993     94.0  Animation, Action, Adventure   NaN  \n",
      "97  2016     61.0             Animation, Family   NaN  \n",
      "17  1995     45.0      Animation, Drama, Horror   NaN  \n",
      "34  2014    116.0   Animation, Adventure, Crime   NaN  \n",
      "50  1986    125.0  Animation, Adventure, Family   NaN  \n",
      "81  2002     98.0   Animation, Adventure, Drama   NaN  \n"
     ]
    }
   ],
   "source": [
    "#simple random sampling\n",
    "no_of_elements = 10\n",
    "random_index = sample(range(df.shape[0]), no_of_elements)\n",
    "print(random_index)\n",
    "print(df.iloc[random_index])"
   ]
  },
  {
   "cell_type": "code",
   "execution_count": 11,
   "metadata": {
    "collapsed": false
   },
   "outputs": [
    {
     "name": "stdout",
     "output_type": "stream",
     "text": [
      "    rank                                              title  rating    votes  \\\n",
      "0      1                Ramayana: The Legend of Prince Rama     9.2    7,549   \n",
      "10    11                                     Fresh Precure!     8.3       32   \n",
      "20    21                               Howl's Moving Castle     8.2  393,001   \n",
      "30    31                               Zoku Owarimonogatari     8.0      827   \n",
      "40    41  Puella Magi Madoka Magica the Movie Part 2: Et...     8.0    1,530   \n",
      "50    51                                  Castle in the Sky     8.0  166,679   \n",
      "60    61                            Evangelion: 2.0 You Can     7.9   21,960   \n",
      "70    71  Puella Magi Madoka Magica the Movie Part III: ...     7.8    3,672   \n",
      "80    81                  Made in Abyss: Wandering Twilight     7.8      788   \n",
      "90    91  Legend of the Galactic Heroes: My Conquest is ...     7.8      897   \n",
      "\n",
      "    year  minutes                          genre   gross  \n",
      "0   1993     97.0   Animation, Action, Adventure     NaN  \n",
      "10  2009      NaN      Animation, Action, Comedy     NaN  \n",
      "20  2004    119.0   Animation, Adventure, Family  $4.71M  \n",
      "30  2018    148.0             Animation, Fantasy     NaN  \n",
      "40  2012    109.0    Animation, Fantasy, Mystery  $0.06M  \n",
      "50  1986    125.0   Animation, Adventure, Family     NaN  \n",
      "60  2009    112.0       Animation, Action, Drama  $0.13M  \n",
      "70  2013    116.0      Animation, Drama, Fantasy  $0.38M  \n",
      "80  2019    110.0  Animation, Adventure, Fantasy     NaN  \n",
      "90  1988     60.0       Animation, Action, Drama     NaN  \n"
     ]
    }
   ],
   "source": [
    "#systematic sampling\n",
    "Kth = 10\n",
    "index = [i for i in range(df.shape[0]) if i%Kth==0]\n",
    "print(df.iloc[index])"
   ]
  },
  {
   "cell_type": "code",
   "execution_count": 14,
   "metadata": {
    "collapsed": false
   },
   "outputs": [
    {
     "name": "stdout",
     "output_type": "stream",
     "text": [
      "stratas : ['Animation, Adventure, Music', 'Animation, Action, Adventure', 'Animation, Crime, Drama', 'Animation, Fantasy, Mystery', 'Animation, Adventure, Sci-Fi', 'Animation, Drama', 'Animation, Family', 'Animation, Drama, Sport', 'Animation, Drama, Horror', 'Animation, Drama, War', 'Animation, Fantasy, Musical', 'Animation, Fantasy', 'Animation, Comedy, Drama', 'Animation, Adventure, Crime', 'Animation, Action, Drama', 'Animation, Drama, Family', 'Animation, Drama, Fantasy', 'Animation', 'Animation, Action, Crime', 'Animation, Mystery, Sci-Fi', 'Animation, Comedy, Romance', 'Animation, Adventure, Fantasy', 'Animation, Adventure, Drama', 'Animation, Sport', 'Animation, Fantasy, Romance', 'Animation, Adventure, Comedy', 'Animation, Biography, Drama', 'Animation, Adventure, Horror', 'Animation, Adventure, Family', 'Animation, Drama, Music', 'Animation, Action, Comedy', 'Animation, Action, Fantasy', 'Animation, Comedy, Family'] \n",
      "\n",
      "    rank                                              title  rating    votes  \\\n",
      "84    85  Interstella 5555: The 5tory of the 5ecret 5tar...     7.8   14,744   \n",
      "71    72                                   One Piece Film Z     7.8    7,620   \n",
      "48    49                                       Perfect Blue     8.0   76,780   \n",
      "40    41  Puella Magi Madoka Magica the Movie Part 2: Et...     8.0    1,530   \n",
      "51    52                 Nausicaä of the Valley of the Wind     8.0  169,469   \n",
      "23    24                          A Silent Voice: The Movie     8.1   81,298   \n",
      "97    98         The Shimajiro Movie: Shimajiro in Bookland     7.7       25   \n",
      "94    95                     Kuroko's Basketball: Last Game     7.7    2,685   \n",
      "17    18                                      Magnetic Rose     8.2    2,677   \n",
      "58    59                            Ushiro no shoumen daare     7.9      331   \n",
      "79    80          Shining Star: The Birth of New Luna-Queen     7.8       38   \n",
      "30    31                               Zoku Owarimonogatari     8.0      827   \n",
      "42    43               The Quintessential Quintuplets Movie     8.0      485   \n",
      "34    35                       Black Butler: Book of Murder     8.0    1,085   \n",
      "95    96  Mobile Suit Gundam: The Origin IV - Eve of Des...     7.7      462   \n",
      "24    25                                      Wolf Children     8.1   45,159   \n",
      "73    74                    To the Forest of Firefly Lights     7.8   18,614   \n",
      "12    13                                         Gaiking II     8.3       23   \n",
      "62    63                                 Ghost in the Shell     7.9  143,434   \n",
      "69    70    Steins;Gate: The Movie - Load Region of Déjà Vu     7.8    8,522   \n",
      "99   100                                       Asatte Dansu     7.7       10   \n",
      "80    81                  Made in Abyss: Wandering Twilight     7.8      788   \n",
      "64    65                           Conan, the Boy in Future     7.8       46   \n",
      "66    67  Kuroko no Basket Movie 1: Winter Cup Soushuuhe...     7.8      468   \n",
      "2      3      Meiji Tokyo Renka Movie: Yumihari no Serenade     8.5       39   \n",
      "83    84                                   Tokyo Godfathers     7.8   40,590   \n",
      "52    53                                       Barefoot Gen     8.0    8,065   \n",
      "67    68                             Ajin Part 2: Shoutotsu     7.8      535   \n",
      "89    90                            Kiki's Delivery Service     7.8  144,897   \n",
      "26    27   Shoujo Kageki Revue Starlight: Rondo Rondo Rondo     8.1       43   \n",
      "27    28                 Girls und Panzer Compilation Movie     8.1       30   \n",
      "7      8             Attack on Titan: The Roar of Awakening     8.4    5,376   \n",
      "29    30                                 My Neighbor Totoro     8.1  337,655   \n",
      "\n",
      "    year  minutes                          genre   gross  \n",
      "84  2003     68.0    Animation, Adventure, Music     NaN  \n",
      "71  2012    108.0   Animation, Action, Adventure     NaN  \n",
      "48  1997     81.0        Animation, Crime, Drama  $0.78M  \n",
      "40  2012    109.0    Animation, Fantasy, Mystery  $0.06M  \n",
      "51  1984    117.0   Animation, Adventure, Sci-Fi  $0.50M  \n",
      "23  2016    130.0               Animation, Drama     NaN  \n",
      "97  2016     61.0              Animation, Family     NaN  \n",
      "94  2017     91.0        Animation, Drama, Sport     NaN  \n",
      "17  1995     45.0       Animation, Drama, Horror     NaN  \n",
      "58  1991     90.0          Animation, Drama, War     NaN  \n",
      "79  2019     78.0    Animation, Fantasy, Musical     NaN  \n",
      "30  2018    148.0             Animation, Fantasy     NaN  \n",
      "42  2022    136.0       Animation, Comedy, Drama     NaN  \n",
      "34  2014    116.0    Animation, Adventure, Crime     NaN  \n",
      "95  2016     85.0       Animation, Action, Drama     NaN  \n",
      "24  2012    117.0       Animation, Drama, Family     NaN  \n",
      "73  2011     45.0      Animation, Drama, Fantasy     NaN  \n",
      "12  2011    120.0                      Animation     NaN  \n",
      "62  1995     83.0       Animation, Action, Crime  $0.52M  \n",
      "69  2013     90.0     Animation, Mystery, Sci-Fi     NaN  \n",
      "99  1991     45.0     Animation, Comedy, Romance     NaN  \n",
      "80  2019    110.0  Animation, Adventure, Fantasy     NaN  \n",
      "64  1979    122.0    Animation, Adventure, Drama     NaN  \n",
      "66  2016     90.0               Animation, Sport     NaN  \n",
      "2   2015     60.0    Animation, Fantasy, Romance     NaN  \n",
      "83  2003     92.0   Animation, Adventure, Comedy  $0.13M  \n",
      "52  1983     83.0    Animation, Biography, Drama     NaN  \n",
      "67  2016    106.0   Animation, Adventure, Horror     NaN  \n",
      "89  1989    103.0   Animation, Adventure, Family     NaN  \n",
      "26  2020    119.0        Animation, Drama, Music     NaN  \n",
      "27  2018    122.0      Animation, Action, Comedy     NaN  \n",
      "7   2018    120.0     Animation, Action, Fantasy     NaN  \n",
      "29  1988     86.0      Animation, Comedy, Family  $1.11M  \n"
     ]
    }
   ],
   "source": [
    "#stratified sampling\n",
    "#stratas formed based on Education\n",
    "no_of_elements =  1       #number of elements in each strata\n",
    "unique = list(set(df['genre']))\n",
    "print('stratas :', unique, '\\n')\n",
    "index_set = [sample(list(df.index[df['genre']==i]), no_of_elements) for i in unique]\n",
    "index = [j for i in index_set for j in i]\n",
    "print(df.iloc[index])"
   ]
  },
  {
   "cell_type": "code",
   "execution_count": 16,
   "metadata": {
    "collapsed": false
   },
   "outputs": [
    {
     "name": "stdout",
     "output_type": "stream",
     "text": [
      "clusters : [2002, 2017, 2014, 2000, 1994] selected out of : [1979, 1980, 1983, 1984, 1986, 1988, 1989, 1990, 1991, 1993, 1994, 1995, 1997, 1998, 2000, 2001, 2002, 2003, 2004, 2007, 2008, 2009, 2010, 2011, 2012, 2013, 2014, 2015, 2016, 2017, 2018, 2019, 2020, 2021, 2022] \n",
      "\n",
      "    rank                                              title  rating  votes  \\\n",
      "81    82       Detective Conan: The Phantom of Baker Street     7.8  3,228   \n",
      "35    36                    Kizumonogatari Part 3: Reiketsu     8.0  2,711   \n",
      "93    94   Mobile Suit Gundam: The Origin V - Clash at Loum     7.7    392   \n",
      "94    95                     Kuroko's Basketball: Last Game     7.7  2,685   \n",
      "16    17  Gekijouban Shimajirou no wao!: Shimajirou to k...     8.2     22   \n",
      "34    35                       Black Butler: Book of Murder     8.0  1,085   \n",
      "37    38                                 Deadstar the Movie     8.0     10   \n",
      "85    86                 Cardcaptor Sakura: The Sealed Card     7.8  1,642   \n",
      "36    37    Slam Dunk: Zenkoku Seiha da! Sakuragi Hanamichi     8.0    449   \n",
      "\n",
      "    year  minutes                         genre gross  \n",
      "81  2002     98.0   Animation, Adventure, Drama   NaN  \n",
      "35  2017     83.0      Animation, Action, Drama   NaN  \n",
      "93  2017     84.0      Animation, Action, Drama   NaN  \n",
      "94  2017     91.0       Animation, Drama, Sport   NaN  \n",
      "16  2014      NaN  Animation, Adventure, Family   NaN  \n",
      "34  2014    116.0   Animation, Adventure, Crime   NaN  \n",
      "37  2014     63.0                     Animation   NaN  \n",
      "85  2000     79.0  Animation, Adventure, Comedy   NaN  \n",
      "36  1994     45.0      Animation, Comedy, Drama   NaN  \n"
     ]
    }
   ],
   "source": [
    "#cluster sampling\n",
    "#clusters formed based on year\n",
    "no_of_clusters = 5\n",
    "unique = list(set(df['year']))\n",
    "smp = sample(unique, no_of_clusters)\n",
    "print(\"clusters :\", smp, \"selected out of :\", unique, '\\n')\n",
    "index_set = [list(df.index[df['year']==i]) for i in smp]\n",
    "index = [j for i in index_set for j in i]\n",
    "print(df.iloc[index])"
   ]
  }
 ],
 "metadata": {
  "kernelspec": {
   "display_name": "Python 3.10.0 64-bit",
   "language": "python",
   "name": "python3"
  },
  "language_info": {
   "codemirror_mode": {
    "name": "ipython",
    "version": 3
   },
   "file_extension": ".py",
   "mimetype": "text/x-python",
   "name": "python",
   "nbconvert_exporter": "python",
   "pygments_lexer": "ipython3",
   "version": "3.10.0"
  },
  "vscode": {
   "interpreter": {
    "hash": "0cf29ff85d133bd745b8c83b7023f4a9b7222e23108fd1caf403b3f8dced3369"
   }
  }
 },
 "nbformat": 4,
 "nbformat_minor": 2
}
