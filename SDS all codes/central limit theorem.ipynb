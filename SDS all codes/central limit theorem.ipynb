{
 "cells": [
  {
   "cell_type": "code",
   "execution_count": 6,
   "metadata": {
    "collapsed": true
   },
   "outputs": [],
   "source": [
    "# demonstration of the central limit theorem\n",
    "from numpy.random import seed\n",
    "from numpy.random import randint\n",
    "from numpy import mean\n",
    "from matplotlib import pyplot\n",
    "import pandas as pd\n",
    "import numpy as np\n"
   ]
  },
  {
   "cell_type": "code",
   "execution_count": 7,
   "metadata": {},
   "outputs": [
    {
     "data": {
      "text/html": [
       "<div>\n",
       "<style scoped>\n",
       "    .dataframe tbody tr th:only-of-type {\n",
       "        vertical-align: middle;\n",
       "    }\n",
       "\n",
       "    .dataframe tbody tr th {\n",
       "        vertical-align: top;\n",
       "    }\n",
       "\n",
       "    .dataframe thead th {\n",
       "        text-align: right;\n",
       "    }\n",
       "</style>\n",
       "<table border=\"1\" class=\"dataframe\">\n",
       "  <thead>\n",
       "    <tr style=\"text-align: right;\">\n",
       "      <th></th>\n",
       "      <th>rank</th>\n",
       "      <th>title</th>\n",
       "      <th>rating</th>\n",
       "      <th>votes</th>\n",
       "      <th>year</th>\n",
       "      <th>minutes</th>\n",
       "      <th>genre</th>\n",
       "      <th>gross</th>\n",
       "    </tr>\n",
       "  </thead>\n",
       "  <tbody>\n",
       "    <tr>\n",
       "      <th>0</th>\n",
       "      <td>1</td>\n",
       "      <td>Ramayana: The Legend of Prince Rama</td>\n",
       "      <td>9.2</td>\n",
       "      <td>7,549</td>\n",
       "      <td>1993</td>\n",
       "      <td>97.0</td>\n",
       "      <td>Animation, Action, Adventure</td>\n",
       "      <td>NaN</td>\n",
       "    </tr>\n",
       "    <tr>\n",
       "      <th>1</th>\n",
       "      <td>2</td>\n",
       "      <td>Spirited Away</td>\n",
       "      <td>8.6</td>\n",
       "      <td>756,112</td>\n",
       "      <td>2001</td>\n",
       "      <td>125.0</td>\n",
       "      <td>Animation, Adventure, Family</td>\n",
       "      <td>$10.06M</td>\n",
       "    </tr>\n",
       "    <tr>\n",
       "      <th>2</th>\n",
       "      <td>3</td>\n",
       "      <td>Meiji Tokyo Renka Movie: Yumihari no Serenade</td>\n",
       "      <td>8.5</td>\n",
       "      <td>39</td>\n",
       "      <td>2015</td>\n",
       "      <td>60.0</td>\n",
       "      <td>Animation, Fantasy, Romance</td>\n",
       "      <td>NaN</td>\n",
       "    </tr>\n",
       "    <tr>\n",
       "      <th>3</th>\n",
       "      <td>4</td>\n",
       "      <td>Natsu e no tunnel, Sayonara no deguchi</td>\n",
       "      <td>8.5</td>\n",
       "      <td>23</td>\n",
       "      <td>2022</td>\n",
       "      <td>83.0</td>\n",
       "      <td>Animation</td>\n",
       "      <td>NaN</td>\n",
       "    </tr>\n",
       "    <tr>\n",
       "      <th>4</th>\n",
       "      <td>5</td>\n",
       "      <td>Attack on Titan: Chronicle</td>\n",
       "      <td>8.5</td>\n",
       "      <td>10,421</td>\n",
       "      <td>2020</td>\n",
       "      <td>122.0</td>\n",
       "      <td>Animation, Action, Adventure</td>\n",
       "      <td>NaN</td>\n",
       "    </tr>\n",
       "    <tr>\n",
       "      <th>...</th>\n",
       "      <td>...</td>\n",
       "      <td>...</td>\n",
       "      <td>...</td>\n",
       "      <td>...</td>\n",
       "      <td>...</td>\n",
       "      <td>...</td>\n",
       "      <td>...</td>\n",
       "      <td>...</td>\n",
       "    </tr>\n",
       "    <tr>\n",
       "      <th>95</th>\n",
       "      <td>96</td>\n",
       "      <td>Mobile Suit Gundam: The Origin IV - Eve of Des...</td>\n",
       "      <td>7.7</td>\n",
       "      <td>462</td>\n",
       "      <td>2016</td>\n",
       "      <td>85.0</td>\n",
       "      <td>Animation, Action, Drama</td>\n",
       "      <td>NaN</td>\n",
       "    </tr>\n",
       "    <tr>\n",
       "      <th>96</th>\n",
       "      <td>97</td>\n",
       "      <td>Dou Kyu Sei: Classmates</td>\n",
       "      <td>7.7</td>\n",
       "      <td>2,742</td>\n",
       "      <td>2016</td>\n",
       "      <td>60.0</td>\n",
       "      <td>Animation, Drama, Music</td>\n",
       "      <td>NaN</td>\n",
       "    </tr>\n",
       "    <tr>\n",
       "      <th>97</th>\n",
       "      <td>98</td>\n",
       "      <td>The Shimajiro Movie: Shimajiro in Bookland</td>\n",
       "      <td>7.7</td>\n",
       "      <td>25</td>\n",
       "      <td>2016</td>\n",
       "      <td>61.0</td>\n",
       "      <td>Animation, Family</td>\n",
       "      <td>NaN</td>\n",
       "    </tr>\n",
       "    <tr>\n",
       "      <th>98</th>\n",
       "      <td>99</td>\n",
       "      <td>In This Corner</td>\n",
       "      <td>7.7</td>\n",
       "      <td>11,242</td>\n",
       "      <td>2016</td>\n",
       "      <td>129.0</td>\n",
       "      <td>Animation, Drama, Family</td>\n",
       "      <td>NaN</td>\n",
       "    </tr>\n",
       "    <tr>\n",
       "      <th>99</th>\n",
       "      <td>100</td>\n",
       "      <td>Asatte Dansu</td>\n",
       "      <td>7.7</td>\n",
       "      <td>10</td>\n",
       "      <td>1991</td>\n",
       "      <td>45.0</td>\n",
       "      <td>Animation, Comedy, Romance</td>\n",
       "      <td>NaN</td>\n",
       "    </tr>\n",
       "  </tbody>\n",
       "</table>\n",
       "<p>100 rows × 8 columns</p>\n",
       "</div>"
      ],
      "text/plain": [
       "    rank                                              title  rating    votes  \\\n",
       "0      1                Ramayana: The Legend of Prince Rama     9.2    7,549   \n",
       "1      2                                      Spirited Away     8.6  756,112   \n",
       "2      3      Meiji Tokyo Renka Movie: Yumihari no Serenade     8.5       39   \n",
       "3      4             Natsu e no tunnel, Sayonara no deguchi     8.5       23   \n",
       "4      5                         Attack on Titan: Chronicle     8.5   10,421   \n",
       "..   ...                                                ...     ...      ...   \n",
       "95    96  Mobile Suit Gundam: The Origin IV - Eve of Des...     7.7      462   \n",
       "96    97                            Dou Kyu Sei: Classmates     7.7    2,742   \n",
       "97    98         The Shimajiro Movie: Shimajiro in Bookland     7.7       25   \n",
       "98    99                                     In This Corner     7.7   11,242   \n",
       "99   100                                       Asatte Dansu     7.7       10   \n",
       "\n",
       "    year  minutes                         genre    gross  \n",
       "0   1993     97.0  Animation, Action, Adventure      NaN  \n",
       "1   2001    125.0  Animation, Adventure, Family  $10.06M  \n",
       "2   2015     60.0   Animation, Fantasy, Romance      NaN  \n",
       "3   2022     83.0                     Animation      NaN  \n",
       "4   2020    122.0  Animation, Action, Adventure      NaN  \n",
       "..   ...      ...                           ...      ...  \n",
       "95  2016     85.0      Animation, Action, Drama      NaN  \n",
       "96  2016     60.0       Animation, Drama, Music      NaN  \n",
       "97  2016     61.0             Animation, Family      NaN  \n",
       "98  2016    129.0      Animation, Drama, Family      NaN  \n",
       "99  1991     45.0    Animation, Comedy, Romance      NaN  \n",
       "\n",
       "[100 rows x 8 columns]"
      ]
     },
     "execution_count": 7,
     "metadata": {},
     "output_type": "execute_result"
    }
   ],
   "source": [
    "df=pd.read_csv(\"top_100_anime_movie.csv\")\n",
    "df"
   ]
  },
  {
   "cell_type": "code",
   "execution_count": 16,
   "metadata": {
    "collapsed": true
   },
   "outputs": [],
   "source": [
    "def plot_clt(n):\n",
    "    # calculate the mean of 50 dice rolls n times\n",
    "    means = [mean(df[\"rating\"].sample(frac=0.05)) for _ in range(n)]\n",
    "\n",
    "    # plot the distribution of sample means\n",
    "    pyplot.hist(means)\n",
    "    pyplot.show()"
   ]
  },
  {
   "cell_type": "code",
   "execution_count": 17,
   "metadata": {
    "collapsed": false
   },
   "outputs": [
    {
     "data": {
      "image/png": "[encoded data removed]",
      "text/plain": [
       "<Figure size 640x480 with 1 Axes>"
      ]
     },
     "metadata": {},
     "output_type": "display_data"
    }
   ],
   "source": [
    "plot_clt(10)"
   ]
  },
  {
   "cell_type": "code",
   "execution_count": 18,
   "metadata": {
    "collapsed": false
   },
   "outputs": [
    {
     "data": {
      "image/png": "[encoded data removed]",
      "text/plain": [
       "<Figure size 640x480 with 1 Axes>"
      ]
     },
     "metadata": {},
     "output_type": "display_data"
    }
   ],
   "source": [
    "plot_clt(100)"
   ]
  },
  {
   "cell_type": "code",
   "execution_count": 19,
   "metadata": {
    "collapsed": false
   },
   "outputs": [
    {
     "data": {
      "image/png": "[encoded data removed]",
      "text/plain": [
       "<Figure size 640x480 with 1 Axes>"
      ]
     },
     "metadata": {},
     "output_type": "display_data"
    }
   ],
   "source": [
    "plot_clt(10000)"
   ]
  }
 ],
 "metadata": {
  "kernelspec": {
   "display_name": "Python 3.10.0 64-bit",
   "language": "python",
   "name": "python3"
  },
  "language_info": {
   "codemirror_mode": {
    "name": "ipython",
    "version": 3
   },
   "file_extension": ".py",
   "mimetype": "text/x-python",
   "name": "python",
   "nbconvert_exporter": "python",
   "pygments_lexer": "ipython3",
   "version": "3.10.0"
  },
  "vscode": {
   "interpreter": {
    "hash": "0cf29ff85d133bd745b8c83b7023f4a9b7222e23108fd1caf403b3f8dced3369"
   }
  }
 },
 "nbformat": 4,
 "nbformat_minor": 2
}
