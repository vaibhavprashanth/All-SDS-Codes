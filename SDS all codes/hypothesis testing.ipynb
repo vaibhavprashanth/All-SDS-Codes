{
 "cells": [
  {
   "cell_type": "code",
   "execution_count": 1,
   "metadata": {
    "collapsed": false
   },
   "outputs": [
    {
     "name": "stdout",
     "output_type": "stream",
     "text": [
      "H0 : μ = 8.001000000000001\n",
      "H1 : μ != 8.001000000000001\n",
      "alpha value is : 0.05 \n",
      "\n",
      "actual z value : 1.9599639845400545\n",
      "hypothesis z value : 6.833495471178865 \n",
      "\n",
      "Reject NULL hypothesis\n"
     ]
    }
   ],
   "source": [
    "from scipy.stats import norm\n",
    "from math import sqrt\n",
    "import pandas as pd\n",
    "import numpy as np\n",
    "import statistics\n",
    "\n",
    "\n",
    "def two_sided_hypo(sample_mean, pop_mean, std_dev, sample_size, alpha):\n",
    "    actual_z = abs(norm.ppf(alpha/2))\n",
    "    hypo_z = (sample_mean - pop_mean) / (std_dev/sqrt(sample_size))\n",
    "    print('actual z value :', actual_z)\n",
    "    print('hypothesis z value :', hypo_z, '\\n')\n",
    "    if hypo_z >= actual_z or hypo_z <= -(actual_z):\n",
    "        return True\n",
    "    else:\n",
    "        return False\n",
    "    \n",
    "\n",
    "alpha = 0.05\n",
    "\n",
    "df = pd.read_csv('top_100_anime_movie.csv')\n",
    "arr = df['rating']\n",
    "arr = np.array(arr)\n",
    "\n",
    "#took first 10 value as sample\n",
    "sample_mean = arr[0:10].mean()\n",
    "pop_mean = arr.mean()\n",
    "sample_size =  10\n",
    "std_dev = statistics.stdev(arr)\n",
    "\n",
    "print('H0 : μ =', pop_mean)\n",
    "print('H1 : μ !=', pop_mean)\n",
    "print('alpha value is :', alpha, '\\n')\n",
    "\n",
    "reject = two_sided_hypo(sample_mean, pop_mean, std_dev, sample_size, alpha)\n",
    "if reject:\n",
    "    print('Reject NULL hypothesis')\n",
    "else:\n",
    "    print('Failed to reject NULL hypothesis')\n",
    "#variation with different parameters can be shown here"
   ]
  },
  {
   "cell_type": "code",
   "execution_count": 2,
   "metadata": {
    "collapsed": false
   },
   "outputs": [
    {
     "name": "stdout",
     "output_type": "stream",
     "text": [
      "H0 : μ <= 8.001000000000001\n",
      "H1 : μ > 8.001000000000001\n",
      "alpha value is : 0.05 \n",
      "\n",
      "actual z value : 1.6448536269514729\n",
      "hypothesis z value : 6.833495471178865 \n",
      "\n",
      "Reject NULL hypothesis\n"
     ]
    }
   ],
   "source": [
    "#one sided hypothesis test(for smaller than in NULL hypothesis)\n",
    "def one_sided_hypo(sample_mean, pop_mean, std_dev, sample_size, alpha):\n",
    "    actual_z = abs(norm.ppf(alpha))\n",
    "    hypo_z = (sample_mean - pop_mean) / (std_dev/sqrt(sample_size))\n",
    "    print('actual z value :', actual_z)\n",
    "    print('hypothesis z value :', hypo_z, '\\n')\n",
    "    if hypo_z >= actual_z:\n",
    "        return True\n",
    "    else:\n",
    "        return False\n",
    "    \n",
    "alpha = 0.05\n",
    "sample_mean = arr[0:10].mean()\n",
    "pop_mean = arr.mean()\n",
    "sample_size =  10\n",
    "std_dev = statistics.stdev(arr)\n",
    "\n",
    "print('H0 : μ <=', pop_mean)\n",
    "print('H1 : μ >', pop_mean)\n",
    "print('alpha value is :', alpha, '\\n')\n",
    "\n",
    "reject = one_sided_hypo(sample_mean, pop_mean, std_dev, sample_size, alpha)\n",
    "if reject:\n",
    "    print('Reject NULL hypothesis')\n",
    "else:\n",
    "    print('Failed to reject NULL hypothesis')\n",
    "#variation with different parameters can be shown here"
   ]
  },
  {
   "cell_type": "code",
   "execution_count": 1,
   "metadata": {},
   "outputs": [
    {
     "name": "stdout",
     "output_type": "stream",
     "text": [
      "H0 : μ = 8.001000000000001\n",
      "H1 : μ != 8.001000000000001\n",
      "alpha value is : 0.05 \n",
      "\n",
      "actual z value : 1.9599639845400545\n",
      "hypothesis z value : -0.26139053714893956 \n",
      "\n",
      "Failed to reject NULL hypothesis\n"
     ]
    }
   ],
   "source": [
    "#for random sample\n",
    "from scipy.stats import norm\n",
    "from math import sqrt\n",
    "import pandas as pd\n",
    "import numpy as np\n",
    "import statistics\n",
    "\n",
    "\n",
    "def two_sided_hypo(sample_mean, pop_mean, std_dev, sample_size, alpha):\n",
    "    actual_z = abs(norm.ppf(alpha/2))\n",
    "    hypo_z = (sample_mean - pop_mean) / (std_dev/sqrt(sample_size))\n",
    "    print('actual z value :', actual_z)\n",
    "    print('hypothesis z value :', hypo_z, '\\n')\n",
    "    if hypo_z >= actual_z or hypo_z <= -(actual_z):\n",
    "        return True\n",
    "    else:\n",
    "        return False\n",
    "    \n",
    "\n",
    "alpha = 0.05\n",
    "\n",
    "df = pd.read_csv('top_100_anime_movie.csv')\n",
    "arr = df['rating']\n",
    "arr = np.array(arr)\n",
    "\n",
    "#took 10 random rating\n",
    "sample_mean = (np.random.choice(arr, size=10)).mean()\n",
    "pop_mean = arr.mean()\n",
    "sample_size =  10\n",
    "std_dev = statistics.stdev(arr)\n",
    "\n",
    "print('H0 : μ =', pop_mean)\n",
    "print('H1 : μ !=', pop_mean)\n",
    "print('alpha value is :', alpha, '\\n')\n",
    "\n",
    "reject = two_sided_hypo(sample_mean, pop_mean, std_dev, sample_size, alpha)\n",
    "if reject:\n",
    "    print('Reject NULL hypothesis')\n",
    "else:\n",
    "    print('Failed to reject NULL hypothesis')\n",
    "#variation with different parameters can be shown here"
   ]
  },
  {
   "cell_type": "code",
   "execution_count": 2,
   "metadata": {},
   "outputs": [
    {
     "name": "stdout",
     "output_type": "stream",
     "text": [
      "H0 : μ <= 8.001000000000001\n",
      "H1 : μ > 8.001000000000001\n",
      "alpha value is : 0.05 \n",
      "\n",
      "actual z value : 1.6448536269514729\n",
      "hypothesis z value : -0.6348055902188153 \n",
      "\n",
      "Failed to reject NULL hypothesis\n"
     ]
    }
   ],
   "source": [
    "#one sided hypothesis test(for smaller than in NULL hypothesis)\n",
    "def one_sided_hypo(sample_mean, pop_mean, std_dev, sample_size, alpha):\n",
    "    actual_z = abs(norm.ppf(alpha))\n",
    "    hypo_z = (sample_mean - pop_mean) / (std_dev/sqrt(sample_size))\n",
    "    print('actual z value :', actual_z)\n",
    "    print('hypothesis z value :', hypo_z, '\\n')\n",
    "    if hypo_z >= actual_z:\n",
    "        return True\n",
    "    else:\n",
    "        return False\n",
    "    \n",
    "alpha = 0.05\n",
    "sample_mean = (np.random.choice(arr, size=10)).mean()\n",
    "pop_mean = arr.mean()\n",
    "sample_size =  10\n",
    "std_dev = statistics.stdev(arr)\n",
    "\n",
    "print('H0 : μ <=', pop_mean)\n",
    "print('H1 : μ >', pop_mean)\n",
    "print('alpha value is :', alpha, '\\n')\n",
    "\n",
    "reject = one_sided_hypo(sample_mean, pop_mean, std_dev, sample_size, alpha)\n",
    "if reject:\n",
    "    print('Reject NULL hypothesis')\n",
    "else:\n",
    "    print('Failed to reject NULL hypothesis')\n",
    "#variation with different parameters can be shown here"
   ]
  }
 ],
 "metadata": {
  "kernelspec": {
   "display_name": "Python 3.10.0 64-bit",
   "language": "python",
   "name": "python3"
  },
  "language_info": {
   "codemirror_mode": {
    "name": "ipython",
    "version": 3
   },
   "file_extension": ".py",
   "mimetype": "text/x-python",
   "name": "python",
   "nbconvert_exporter": "python",
   "pygments_lexer": "ipython3",
   "version": "3.10.0"
  },
  "vscode": {
   "interpreter": {
    "hash": "0cf29ff85d133bd745b8c83b7023f4a9b7222e23108fd1caf403b3f8dced3369"
   }
  }
 },
 "nbformat": 4,
 "nbformat_minor": 2
}
